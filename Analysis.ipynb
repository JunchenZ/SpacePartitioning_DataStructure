{
 "cells": [
  {
   "cell_type": "markdown",
   "metadata": {},
   "source": [
    "## Analysis"
   ]
  },
  {
   "cell_type": "code",
   "execution_count": 1,
   "metadata": {},
   "outputs": [
    {
     "data": {
      "text/html": [
       "<div>\n",
       "<style scoped>\n",
       "    .dataframe tbody tr th:only-of-type {\n",
       "        vertical-align: middle;\n",
       "    }\n",
       "\n",
       "    .dataframe tbody tr th {\n",
       "        vertical-align: top;\n",
       "    }\n",
       "\n",
       "    .dataframe thead th {\n",
       "        text-align: right;\n",
       "    }\n",
       "</style>\n",
       "<table border=\"1\" class=\"dataframe\">\n",
       "  <thead>\n",
       "    <tr style=\"text-align: right;\">\n",
       "      <th></th>\n",
       "      <th>K</th>\n",
       "      <th>Dimension</th>\n",
       "      <th>Number of Points</th>\n",
       "      <th>Time</th>\n",
       "      <th>Distribution</th>\n",
       "      <th>Distribution_Num</th>\n",
       "    </tr>\n",
       "  </thead>\n",
       "  <tbody>\n",
       "    <tr>\n",
       "      <th>0</th>\n",
       "      <td>1</td>\n",
       "      <td>2</td>\n",
       "      <td>50</td>\n",
       "      <td>1.382000e-06</td>\n",
       "      <td>Uniform</td>\n",
       "      <td>0</td>\n",
       "    </tr>\n",
       "    <tr>\n",
       "      <th>1</th>\n",
       "      <td>2</td>\n",
       "      <td>2</td>\n",
       "      <td>50</td>\n",
       "      <td>7.860000e-08</td>\n",
       "      <td>Uniform</td>\n",
       "      <td>0</td>\n",
       "    </tr>\n",
       "    <tr>\n",
       "      <th>2</th>\n",
       "      <td>3</td>\n",
       "      <td>2</td>\n",
       "      <td>50</td>\n",
       "      <td>7.840000e-08</td>\n",
       "      <td>Uniform</td>\n",
       "      <td>0</td>\n",
       "    </tr>\n",
       "    <tr>\n",
       "      <th>3</th>\n",
       "      <td>4</td>\n",
       "      <td>2</td>\n",
       "      <td>50</td>\n",
       "      <td>7.590000e-08</td>\n",
       "      <td>Uniform</td>\n",
       "      <td>0</td>\n",
       "    </tr>\n",
       "    <tr>\n",
       "      <th>4</th>\n",
       "      <td>5</td>\n",
       "      <td>2</td>\n",
       "      <td>50</td>\n",
       "      <td>7.650000e-08</td>\n",
       "      <td>Uniform</td>\n",
       "      <td>0</td>\n",
       "    </tr>\n",
       "    <tr>\n",
       "      <th>5</th>\n",
       "      <td>6</td>\n",
       "      <td>2</td>\n",
       "      <td>50</td>\n",
       "      <td>7.540000e-08</td>\n",
       "      <td>Uniform</td>\n",
       "      <td>0</td>\n",
       "    </tr>\n",
       "    <tr>\n",
       "      <th>6</th>\n",
       "      <td>7</td>\n",
       "      <td>2</td>\n",
       "      <td>50</td>\n",
       "      <td>7.710000e-08</td>\n",
       "      <td>Uniform</td>\n",
       "      <td>0</td>\n",
       "    </tr>\n",
       "    <tr>\n",
       "      <th>7</th>\n",
       "      <td>8</td>\n",
       "      <td>2</td>\n",
       "      <td>50</td>\n",
       "      <td>7.630000e-08</td>\n",
       "      <td>Uniform</td>\n",
       "      <td>0</td>\n",
       "    </tr>\n",
       "    <tr>\n",
       "      <th>8</th>\n",
       "      <td>9</td>\n",
       "      <td>2</td>\n",
       "      <td>50</td>\n",
       "      <td>7.570000e-08</td>\n",
       "      <td>Uniform</td>\n",
       "      <td>0</td>\n",
       "    </tr>\n",
       "    <tr>\n",
       "      <th>9</th>\n",
       "      <td>10</td>\n",
       "      <td>2</td>\n",
       "      <td>50</td>\n",
       "      <td>8.110000e-08</td>\n",
       "      <td>Uniform</td>\n",
       "      <td>0</td>\n",
       "    </tr>\n",
       "    <tr>\n",
       "      <th>10</th>\n",
       "      <td>11</td>\n",
       "      <td>2</td>\n",
       "      <td>50</td>\n",
       "      <td>7.540000e-08</td>\n",
       "      <td>Uniform</td>\n",
       "      <td>0</td>\n",
       "    </tr>\n",
       "    <tr>\n",
       "      <th>11</th>\n",
       "      <td>1</td>\n",
       "      <td>2</td>\n",
       "      <td>100</td>\n",
       "      <td>7.630000e-08</td>\n",
       "      <td>Uniform</td>\n",
       "      <td>0</td>\n",
       "    </tr>\n",
       "    <tr>\n",
       "      <th>12</th>\n",
       "      <td>2</td>\n",
       "      <td>2</td>\n",
       "      <td>100</td>\n",
       "      <td>7.600000e-08</td>\n",
       "      <td>Uniform</td>\n",
       "      <td>0</td>\n",
       "    </tr>\n",
       "    <tr>\n",
       "      <th>13</th>\n",
       "      <td>3</td>\n",
       "      <td>2</td>\n",
       "      <td>100</td>\n",
       "      <td>7.500000e-08</td>\n",
       "      <td>Uniform</td>\n",
       "      <td>0</td>\n",
       "    </tr>\n",
       "    <tr>\n",
       "      <th>14</th>\n",
       "      <td>4</td>\n",
       "      <td>2</td>\n",
       "      <td>100</td>\n",
       "      <td>7.660000e-08</td>\n",
       "      <td>Uniform</td>\n",
       "      <td>0</td>\n",
       "    </tr>\n",
       "  </tbody>\n",
       "</table>\n",
       "</div>"
      ],
      "text/plain": [
       "     K  Dimension  Number of Points          Time Distribution  \\\n",
       "0    1          2                50  1.382000e-06      Uniform   \n",
       "1    2          2                50  7.860000e-08      Uniform   \n",
       "2    3          2                50  7.840000e-08      Uniform   \n",
       "3    4          2                50  7.590000e-08      Uniform   \n",
       "4    5          2                50  7.650000e-08      Uniform   \n",
       "5    6          2                50  7.540000e-08      Uniform   \n",
       "6    7          2                50  7.710000e-08      Uniform   \n",
       "7    8          2                50  7.630000e-08      Uniform   \n",
       "8    9          2                50  7.570000e-08      Uniform   \n",
       "9   10          2                50  8.110000e-08      Uniform   \n",
       "10  11          2                50  7.540000e-08      Uniform   \n",
       "11   1          2               100  7.630000e-08      Uniform   \n",
       "12   2          2               100  7.600000e-08      Uniform   \n",
       "13   3          2               100  7.500000e-08      Uniform   \n",
       "14   4          2               100  7.660000e-08      Uniform   \n",
       "\n",
       "    Distribution_Num  \n",
       "0                  0  \n",
       "1                  0  \n",
       "2                  0  \n",
       "3                  0  \n",
       "4                  0  \n",
       "5                  0  \n",
       "6                  0  \n",
       "7                  0  \n",
       "8                  0  \n",
       "9                  0  \n",
       "10                 0  \n",
       "11                 0  \n",
       "12                 0  \n",
       "13                 0  \n",
       "14                 0  "
      ]
     },
     "execution_count": 1,
     "metadata": {},
     "output_type": "execute_result"
    }
   ],
   "source": [
    "import pandas as pd\n",
    "import numpy as np\n",
    "\n",
    "def helper(t):\n",
    "    if t == 'Gaussian':\n",
    "        return 1\n",
    "    else:\n",
    "        return 0\n",
    "    \n",
    "df_bucket = pd.read_csv(\"bucket.csv\")\n",
    "df_bucket['Distribution'] = df_bucket['Distribution'].astype(str)\n",
    "df_bucket['Distribution_Num'] = df_bucket.apply(lambda row: helper(row.Distribution), axis=1)\n",
    "\n",
    "df_kd = pd.read_csv(\"kdtree.csv\")\n",
    "df_kd['Distribution'] = df_kd['Distribution'].astype(str)\n",
    "df_kd['Distribution_Num'] = df_kd.apply(lambda row: helper(row.Distribution), axis=1)\n",
    "\n",
    "df_quad = pd.read_csv(\"quadtree.csv\")\n",
    "df_quad['Distribution'] = df_quad['Distribution'].astype(str)\n",
    "df_quad['Distribution_Num'] = df_quad.apply(lambda row: helper(row.Distribution), axis=1)\n",
    "df_quad[:15]"
   ]
  },
  {
   "cell_type": "markdown",
   "metadata": {},
   "source": [
    "\n",
    "### K Analysis:\n"
   ]
  },
  {
   "cell_type": "code",
   "execution_count": 2,
   "metadata": {},
   "outputs": [
    {
     "data": {
      "image/png": "[encoded data removed]",
      "text/plain": [
       "<Figure size 432x288 with 1 Axes>"
      ]
     },
     "metadata": {},
     "output_type": "display_data"
    }
   ],
   "source": [
    "import matplotlib.pyplot as plt\n",
    "\n",
    "df_k_bucket = df_bucket[(df_bucket['Dimension'] == 2) & \n",
    "                        (df_bucket['Number of Points'] == 12800) &\n",
    "                        (df_bucket['Distribution'] == 'Uniform')]\n",
    "\n",
    "df_k_kd = df_kd[(df_kd['Dimension'] == 2) & (df_kd['Number of Points'] == 12800) &\n",
    "                        (df_kd['Distribution'] == 'Uniform')]\n",
    "\n",
    "df_k_quad = df_quad[(df_quad['Dimension'] == 2) & (df_quad['Number of Points'] == 12800) &\n",
    "                        (df_quad['Distribution'] == 'Uniform')]\n",
    "\n",
    "%matplotlib inline\n",
    "plt.plot(df_k_bucket[\"K\"], df_k_bucket[\"Time\"], 'r', df_k_kd[\"K\"], df_k_kd[\"Time\"], 'g', \n",
    "        df_k_quad[\"K\"], df_k_quad[\"Time\"], 'b')\n",
    "plt.show()"
   ]
  },
  {
   "cell_type": "markdown",
   "metadata": {},
   "source": [
    "From the graph above, we can clearly see that bucket tend to take more time, and the quad tree takes least time among three data structures.\n",
    "\n",
    "K does not affect much on bucket and quadtree, but the kd tree is direct propotional to k."
   ]
  },
  {
   "cell_type": "markdown",
   "metadata": {},
   "source": [
    "\n",
    "### Dimension Analysis:\n"
   ]
  },
  {
   "cell_type": "code",
   "execution_count": 3,
   "metadata": {},
   "outputs": [
    {
     "data": {
      "text/plain": [
       "[<matplotlib.lines.Line2D at 0x1113d0e10>,\n",
       " <matplotlib.lines.Line2D at 0x1113da048>]"
      ]
     },
     "execution_count": 3,
     "metadata": {},
     "output_type": "execute_result"
    },
    {
     "data": {
      "image/png": "[encoded data removed]",
      "text/plain": [
       "<Figure size 432x288 with 1 Axes>"
      ]
     },
     "metadata": {},
     "output_type": "display_data"
    }
   ],
   "source": [
    "df_dim_bucket = df_bucket[(df_bucket['K'] == 8) & \n",
    "                        (df_bucket['Number of Points'] == 12800) &\n",
    "                        (df_bucket['Distribution'] == 'Uniform')]\n",
    "\n",
    "df_dim_kd = df_kd[(df_kd['K'] == 8) & (df_kd['Number of Points'] == 12800) &\n",
    "                        (df_kd['Distribution'] == 'Uniform')]\n",
    "\n",
    "plt.plot(df_dim_bucket[\"Dimension\"], df_dim_bucket[\"Time\"], 'r', df_dim_kd[\"Dimension\"], \n",
    "         df_dim_kd[\"Time\"], 'g')"
   ]
  },
  {
   "cell_type": "markdown",
   "metadata": {},
   "source": [
    "Since quad tree always has dimension value of 2, so we don't analyze it here.\n",
    "\n",
    "From the graph above, for most cases we can clearly see that bucket tend to take more time than kd tree. However, with the dimension increases, kd tree tends to take more time.\n",
    "\n",
    "Time spent is reversely proportional to dimension."
   ]
  },
  {
   "cell_type": "markdown",
   "metadata": {},
   "source": [
    "\n",
    "### Number of points Analysis:\n"
   ]
  },
  {
   "cell_type": "code",
   "execution_count": 4,
   "metadata": {},
   "outputs": [
    {
     "data": {
      "text/plain": [
       "[<matplotlib.lines.Line2D at 0x1118e3278>,\n",
       " <matplotlib.lines.Line2D at 0x1118e3470>,\n",
       " <matplotlib.lines.Line2D at 0x1118e3cc0>]"
      ]
     },
     "execution_count": 4,
     "metadata": {},
     "output_type": "execute_result"
    },
    {
     "data": {
      "image/png": "[encoded data removed]",
      "text/plain": [
       "<Figure size 432x288 with 1 Axes>"
      ]
     },
     "metadata": {},
     "output_type": "display_data"
    }
   ],
   "source": [
    "df_num_bucket = df_bucket[(df_bucket['Dimension'] == 2) & (df_bucket['K'] == 8) &\n",
    "                        (df_bucket['Distribution'] == 'Uniform')]\n",
    "\n",
    "df_num_kd = df_kd[(df_kd['Dimension'] == 2) & (df_kd['K'] == 8) & \n",
    "                  (df_kd['Distribution'] == 'Uniform')]\n",
    "\n",
    "df_num_quad = df_quad[(df_quad['Dimension'] == 2) & (df_quad['K'] == 8) &\n",
    "                        (df_quad['Distribution'] == 'Uniform')]\n",
    "\n",
    "plt.plot(df_num_bucket[\"Number of Points\"], df_num_bucket[\"Time\"], 'r', \n",
    "         df_num_kd[\"Number of Points\"], df_num_kd[\"Time\"], 'g', \n",
    "         df_num_quad[\"Number of Points\"], df_num_quad[\"Time\"], 'b')"
   ]
  },
  {
   "cell_type": "markdown",
   "metadata": {},
   "source": [
    "From the graph above, we can clearly see that bucket tend to take more time, and the quad tree takes least time among three data structures.\n",
    "\n",
    "Number of points does not affect much on kd tree and quadtree, but the bucket is direct propotional to it."
   ]
  },
  {
   "cell_type": "markdown",
   "metadata": {},
   "source": [
    "\n",
    "### Distribution Analysis:\n"
   ]
  },
  {
   "cell_type": "code",
   "execution_count": 5,
   "metadata": {},
   "outputs": [
    {
     "data": {
      "image/png": "[encoded data removed]",
      "text/plain": [
       "<Figure size 432x288 with 1 Axes>"
      ]
     },
     "metadata": {},
     "output_type": "display_data"
    }
   ],
   "source": [
    "df_dis_bucket = df_bucket[(df_bucket['Dimension'] == 2) & \n",
    "                        (df_bucket['Number of Points'] == 12800) & (df_bucket['K'] == 8)]\n",
    "\n",
    "df_dis_kd = df_kd[(df_kd['Dimension'] == 2) & (df_kd['Number of Points'] == 12800) &\n",
    "                        (df_kd['K'] == 8)]\n",
    "\n",
    "df_dis_quad = df_quad[(df_quad['Dimension'] == 2) & (df_quad['Number of Points'] == 12800) &\n",
    "                        (df_quad['K'] == 8)]\n",
    "\n",
    "plt.scatter(df_dis_bucket[\"Distribution\"], df_dis_bucket[\"Time\"], marker='o', color='r') \n",
    "plt.scatter(df_dis_kd[\"Distribution\"], df_dis_kd[\"Time\"], marker='o', color='g')\n",
    "plt.scatter(df_dis_quad[\"Distribution\"], df_dis_quad[\"Time\"], marker='o', color='b')\n",
    "plt.show()"
   ]
  },
  {
   "cell_type": "markdown",
   "metadata": {},
   "source": [
    "\n",
    "From the graph above, we can clearly see that bucket tend to take more time, and the quad tree takes least time among three data structures.\n",
    "\n",
    "For bucket, it takes more time with gaussian distribution than the uniform distribution.\n",
    "For kd tree and quadtree, time spent is almost not affected by the distribution."
   ]
  },
  {
   "cell_type": "markdown",
   "metadata": {},
   "source": [
    "\n",
    "### Bucket Regression Analysis:\n"
   ]
  },
  {
   "cell_type": "code",
   "execution_count": 6,
   "metadata": {},
   "outputs": [
    {
     "data": {
      "text/html": [
       "<table class=\"simpletable\">\n",
       "<caption>OLS Regression Results</caption>\n",
       "<tr>\n",
       "  <th>Dep. Variable:</th>          <td>Time</td>       <th>  R-squared:         </th> <td>   0.650</td> \n",
       "</tr>\n",
       "<tr>\n",
       "  <th>Model:</th>                   <td>OLS</td>       <th>  Adj. R-squared:    </th> <td>   0.648</td> \n",
       "</tr>\n",
       "<tr>\n",
       "  <th>Method:</th>             <td>Least Squares</td>  <th>  F-statistic:       </th> <td>   609.3</td> \n",
       "</tr>\n",
       "<tr>\n",
       "  <th>Date:</th>             <td>Wed, 11 Jul 2018</td> <th>  Prob (F-statistic):</th> <td>1.73e-297</td>\n",
       "</tr>\n",
       "<tr>\n",
       "  <th>Time:</th>                 <td>20:43:34</td>     <th>  Log-Likelihood:    </th> <td>  1510.1</td> \n",
       "</tr>\n",
       "<tr>\n",
       "  <th>No. Observations:</th>      <td>  1320</td>      <th>  AIC:               </th> <td>  -3010.</td> \n",
       "</tr>\n",
       "<tr>\n",
       "  <th>Df Residuals:</th>          <td>  1315</td>      <th>  BIC:               </th> <td>  -2984.</td> \n",
       "</tr>\n",
       "<tr>\n",
       "  <th>Df Model:</th>              <td>     4</td>      <th>                     </th>     <td> </td>    \n",
       "</tr>\n",
       "<tr>\n",
       "  <th>Covariance Type:</th>      <td>nonrobust</td>    <th>                     </th>     <td> </td>    \n",
       "</tr>\n",
       "</table>\n",
       "<table class=\"simpletable\">\n",
       "<tr>\n",
       "          <td></td>            <th>coef</th>     <th>std err</th>      <th>t</th>      <th>P>|t|</th>  <th>[0.025</th>    <th>0.975]</th>  \n",
       "</tr>\n",
       "<tr>\n",
       "  <th>const</th>            <td>   -0.0118</td> <td>    0.007</td> <td>   -1.688</td> <td> 0.092</td> <td>   -0.026</td> <td>    0.002</td>\n",
       "</tr>\n",
       "<tr>\n",
       "  <th>K</th>                <td> 7.575e-06</td> <td>    0.001</td> <td>    0.011</td> <td> 0.991</td> <td>   -0.001</td> <td>    0.001</td>\n",
       "</tr>\n",
       "<tr>\n",
       "  <th>Dimension</th>        <td>   -0.0096</td> <td>    0.002</td> <td>   -5.033</td> <td> 0.000</td> <td>   -0.013</td> <td>   -0.006</td>\n",
       "</tr>\n",
       "<tr>\n",
       "  <th>Number of Points</th> <td> 4.549e-07</td> <td> 9.73e-09</td> <td>   46.750</td> <td> 0.000</td> <td> 4.36e-07</td> <td> 4.74e-07</td>\n",
       "</tr>\n",
       "<tr>\n",
       "  <th>Distribution_Num</th> <td>    0.0639</td> <td>    0.004</td> <td>   15.040</td> <td> 0.000</td> <td>    0.056</td> <td>    0.072</td>\n",
       "</tr>\n",
       "</table>\n",
       "<table class=\"simpletable\">\n",
       "<tr>\n",
       "  <th>Omnibus:</th>       <td>254.029</td> <th>  Durbin-Watson:     </th> <td>   0.099</td>\n",
       "</tr>\n",
       "<tr>\n",
       "  <th>Prob(Omnibus):</th> <td> 0.000</td>  <th>  Jarque-Bera (JB):  </th> <td>4379.514</td>\n",
       "</tr>\n",
       "<tr>\n",
       "  <th>Skew:</th>          <td> 0.367</td>  <th>  Prob(JB):          </th> <td>    0.00</td>\n",
       "</tr>\n",
       "<tr>\n",
       "  <th>Kurtosis:</th>      <td>11.893</td>  <th>  Cond. No.          </th> <td>8.38e+05</td>\n",
       "</tr>\n",
       "</table><br/><br/>Warnings:<br/>[1] Standard Errors assume that the covariance matrix of the errors is correctly specified.<br/>[2] The condition number is large, 8.38e+05. This might indicate that there are<br/>strong multicollinearity or other numerical problems."
      ],
      "text/plain": [
       "<class 'statsmodels.iolib.summary.Summary'>\n",
       "\"\"\"\n",
       "                            OLS Regression Results                            \n",
       "==============================================================================\n",
       "Dep. Variable:                   Time   R-squared:                       0.650\n",
       "Model:                            OLS   Adj. R-squared:                  0.648\n",
       "Method:                 Least Squares   F-statistic:                     609.3\n",
       "Date:                Wed, 11 Jul 2018   Prob (F-statistic):          1.73e-297\n",
       "Time:                        20:43:34   Log-Likelihood:                 1510.1\n",
       "No. Observations:                1320   AIC:                            -3010.\n",
       "Df Residuals:                    1315   BIC:                            -2984.\n",
       "Df Model:                           4                                         \n",
       "Covariance Type:            nonrobust                                         \n",
       "====================================================================================\n",
       "                       coef    std err          t      P>|t|      [0.025      0.975]\n",
       "------------------------------------------------------------------------------------\n",
       "const               -0.0118      0.007     -1.688      0.092      -0.026       0.002\n",
       "K                 7.575e-06      0.001      0.011      0.991      -0.001       0.001\n",
       "Dimension           -0.0096      0.002     -5.033      0.000      -0.013      -0.006\n",
       "Number of Points  4.549e-07   9.73e-09     46.750      0.000    4.36e-07    4.74e-07\n",
       "Distribution_Num     0.0639      0.004     15.040      0.000       0.056       0.072\n",
       "==============================================================================\n",
       "Omnibus:                      254.029   Durbin-Watson:                   0.099\n",
       "Prob(Omnibus):                  0.000   Jarque-Bera (JB):             4379.514\n",
       "Skew:                           0.367   Prob(JB):                         0.00\n",
       "Kurtosis:                      11.893   Cond. No.                     8.38e+05\n",
       "==============================================================================\n",
       "\n",
       "Warnings:\n",
       "[1] Standard Errors assume that the covariance matrix of the errors is correctly specified.\n",
       "[2] The condition number is large, 8.38e+05. This might indicate that there are\n",
       "strong multicollinearity or other numerical problems.\n",
       "\"\"\""
      ]
     },
     "execution_count": 6,
     "metadata": {},
     "output_type": "execute_result"
    }
   ],
   "source": [
    "import statsmodels.api as sm\n",
    "x = df_bucket[['K', 'Dimension', 'Number of Points', 'Distribution_Num']]\n",
    "y = df_bucket['Time']\n",
    "x = sm.add_constant(x)\n",
    "result = sm.OLS(y, x).fit()\n",
    "result.summary()"
   ]
  },
  {
   "cell_type": "markdown",
   "metadata": {},
   "source": [
    "\n",
    "From the table above, time spent is mainly affected by Dimension, Number of Points and Distribution. Because the p-values are 0 for them."
   ]
  },
  {
   "cell_type": "markdown",
   "metadata": {},
   "source": [
    "\n",
    "### KD Tree Regression Analysis:\n"
   ]
  },
  {
   "cell_type": "code",
   "execution_count": 7,
   "metadata": {},
   "outputs": [
    {
     "data": {
      "text/html": [
       "<table class=\"simpletable\">\n",
       "<caption>OLS Regression Results</caption>\n",
       "<tr>\n",
       "  <th>Dep. Variable:</th>          <td>Time</td>       <th>  R-squared:         </th> <td>   0.156</td>\n",
       "</tr>\n",
       "<tr>\n",
       "  <th>Model:</th>                   <td>OLS</td>       <th>  Adj. R-squared:    </th> <td>   0.154</td>\n",
       "</tr>\n",
       "<tr>\n",
       "  <th>Method:</th>             <td>Least Squares</td>  <th>  F-statistic:       </th> <td>   60.86</td>\n",
       "</tr>\n",
       "<tr>\n",
       "  <th>Date:</th>             <td>Wed, 11 Jul 2018</td> <th>  Prob (F-statistic):</th> <td>3.28e-47</td>\n",
       "</tr>\n",
       "<tr>\n",
       "  <th>Time:</th>                 <td>20:43:34</td>     <th>  Log-Likelihood:    </th> <td>  4531.4</td>\n",
       "</tr>\n",
       "<tr>\n",
       "  <th>No. Observations:</th>      <td>  1320</td>      <th>  AIC:               </th> <td>  -9053.</td>\n",
       "</tr>\n",
       "<tr>\n",
       "  <th>Df Residuals:</th>          <td>  1315</td>      <th>  BIC:               </th> <td>  -9027.</td>\n",
       "</tr>\n",
       "<tr>\n",
       "  <th>Df Model:</th>              <td>     4</td>      <th>                     </th>     <td> </td>   \n",
       "</tr>\n",
       "<tr>\n",
       "  <th>Covariance Type:</th>      <td>nonrobust</td>    <th>                     </th>     <td> </td>   \n",
       "</tr>\n",
       "</table>\n",
       "<table class=\"simpletable\">\n",
       "<tr>\n",
       "          <td></td>            <th>coef</th>     <th>std err</th>      <th>t</th>      <th>P>|t|</th>  <th>[0.025</th>    <th>0.975]</th>  \n",
       "</tr>\n",
       "<tr>\n",
       "  <th>const</th>            <td>    0.0011</td> <td>    0.001</td> <td>    1.566</td> <td> 0.118</td> <td>   -0.000</td> <td>    0.003</td>\n",
       "</tr>\n",
       "<tr>\n",
       "  <th>K</th>                <td>    0.0005</td> <td> 6.81e-05</td> <td>    7.386</td> <td> 0.000</td> <td>    0.000</td> <td>    0.001</td>\n",
       "</tr>\n",
       "<tr>\n",
       "  <th>Dimension</th>        <td>   -0.0014</td> <td>    0.000</td> <td>   -7.503</td> <td> 0.000</td> <td>   -0.002</td> <td>   -0.001</td>\n",
       "</tr>\n",
       "<tr>\n",
       "  <th>Number of Points</th> <td> 1.134e-08</td> <td> 9.86e-10</td> <td>   11.497</td> <td> 0.000</td> <td> 9.41e-09</td> <td> 1.33e-08</td>\n",
       "</tr>\n",
       "<tr>\n",
       "  <th>Distribution_Num</th> <td>   -0.0003</td> <td>    0.000</td> <td>   -0.634</td> <td> 0.526</td> <td>   -0.001</td> <td>    0.001</td>\n",
       "</tr>\n",
       "</table>\n",
       "<table class=\"simpletable\">\n",
       "<tr>\n",
       "  <th>Omnibus:</th>       <td>2079.503</td> <th>  Durbin-Watson:     </th>  <td>   0.661</td> \n",
       "</tr>\n",
       "<tr>\n",
       "  <th>Prob(Omnibus):</th>  <td> 0.000</td>  <th>  Jarque-Bera (JB):  </th> <td>956747.756</td>\n",
       "</tr>\n",
       "<tr>\n",
       "  <th>Skew:</th>           <td> 9.695</td>  <th>  Prob(JB):          </th>  <td>    0.00</td> \n",
       "</tr>\n",
       "<tr>\n",
       "  <th>Kurtosis:</th>       <td>133.459</td> <th>  Cond. No.          </th>  <td>8.38e+05</td> \n",
       "</tr>\n",
       "</table><br/><br/>Warnings:<br/>[1] Standard Errors assume that the covariance matrix of the errors is correctly specified.<br/>[2] The condition number is large, 8.38e+05. This might indicate that there are<br/>strong multicollinearity or other numerical problems."
      ],
      "text/plain": [
       "<class 'statsmodels.iolib.summary.Summary'>\n",
       "\"\"\"\n",
       "                            OLS Regression Results                            \n",
       "==============================================================================\n",
       "Dep. Variable:                   Time   R-squared:                       0.156\n",
       "Model:                            OLS   Adj. R-squared:                  0.154\n",
       "Method:                 Least Squares   F-statistic:                     60.86\n",
       "Date:                Wed, 11 Jul 2018   Prob (F-statistic):           3.28e-47\n",
       "Time:                        20:43:34   Log-Likelihood:                 4531.4\n",
       "No. Observations:                1320   AIC:                            -9053.\n",
       "Df Residuals:                    1315   BIC:                            -9027.\n",
       "Df Model:                           4                                         \n",
       "Covariance Type:            nonrobust                                         \n",
       "====================================================================================\n",
       "                       coef    std err          t      P>|t|      [0.025      0.975]\n",
       "------------------------------------------------------------------------------------\n",
       "const                0.0011      0.001      1.566      0.118      -0.000       0.003\n",
       "K                    0.0005   6.81e-05      7.386      0.000       0.000       0.001\n",
       "Dimension           -0.0014      0.000     -7.503      0.000      -0.002      -0.001\n",
       "Number of Points  1.134e-08   9.86e-10     11.497      0.000    9.41e-09    1.33e-08\n",
       "Distribution_Num    -0.0003      0.000     -0.634      0.526      -0.001       0.001\n",
       "==============================================================================\n",
       "Omnibus:                     2079.503   Durbin-Watson:                   0.661\n",
       "Prob(Omnibus):                  0.000   Jarque-Bera (JB):           956747.756\n",
       "Skew:                           9.695   Prob(JB):                         0.00\n",
       "Kurtosis:                     133.459   Cond. No.                     8.38e+05\n",
       "==============================================================================\n",
       "\n",
       "Warnings:\n",
       "[1] Standard Errors assume that the covariance matrix of the errors is correctly specified.\n",
       "[2] The condition number is large, 8.38e+05. This might indicate that there are\n",
       "strong multicollinearity or other numerical problems.\n",
       "\"\"\""
      ]
     },
     "execution_count": 7,
     "metadata": {},
     "output_type": "execute_result"
    }
   ],
   "source": [
    "x = df_kd[['K', 'Dimension', 'Number of Points', 'Distribution_Num']]\n",
    "y = df_kd['Time']\n",
    "x = sm.add_constant(x)\n",
    "result = sm.OLS(y, x).fit()\n",
    "result.summary()"
   ]
  },
  {
   "cell_type": "markdown",
   "metadata": {},
   "source": [
    "\n",
    "From the table above, time spent is mainly affected by K, Dimension and Number of Points. Because the p-values are 0 for them."
   ]
  },
  {
   "cell_type": "markdown",
   "metadata": {},
   "source": [
    "\n",
    "### Quadtree Regression Analysis:\n"
   ]
  },
  {
   "cell_type": "code",
   "execution_count": 8,
   "metadata": {},
   "outputs": [
    {
     "data": {
      "text/html": [
       "<table class=\"simpletable\">\n",
       "<caption>OLS Regression Results</caption>\n",
       "<tr>\n",
       "  <th>Dep. Variable:</th>          <td>Time</td>       <th>  R-squared:         </th> <td>   0.326</td>\n",
       "</tr>\n",
       "<tr>\n",
       "  <th>Model:</th>                   <td>OLS</td>       <th>  Adj. R-squared:    </th> <td>   0.320</td>\n",
       "</tr>\n",
       "<tr>\n",
       "  <th>Method:</th>             <td>Least Squares</td>  <th>  F-statistic:       </th> <td>   52.58</td>\n",
       "</tr>\n",
       "<tr>\n",
       "  <th>Date:</th>             <td>Wed, 11 Jul 2018</td> <th>  Prob (F-statistic):</th> <td>9.58e-28</td>\n",
       "</tr>\n",
       "<tr>\n",
       "  <th>Time:</th>                 <td>20:43:34</td>     <th>  Log-Likelihood:    </th> <td>  2496.3</td>\n",
       "</tr>\n",
       "<tr>\n",
       "  <th>No. Observations:</th>      <td>   330</td>      <th>  AIC:               </th> <td>  -4985.</td>\n",
       "</tr>\n",
       "<tr>\n",
       "  <th>Df Residuals:</th>          <td>   326</td>      <th>  BIC:               </th> <td>  -4969.</td>\n",
       "</tr>\n",
       "<tr>\n",
       "  <th>Df Model:</th>              <td>     3</td>      <th>                     </th>     <td> </td>   \n",
       "</tr>\n",
       "<tr>\n",
       "  <th>Covariance Type:</th>      <td>nonrobust</td>    <th>                     </th>     <td> </td>   \n",
       "</tr>\n",
       "</table>\n",
       "<table class=\"simpletable\">\n",
       "<tr>\n",
       "          <td></td>            <th>coef</th>     <th>std err</th>      <th>t</th>      <th>P>|t|</th>  <th>[0.025</th>    <th>0.975]</th>  \n",
       "</tr>\n",
       "<tr>\n",
       "  <th>K</th>                <td> 6.131e-06</td> <td>  2.2e-06</td> <td>    2.790</td> <td> 0.006</td> <td> 1.81e-06</td> <td> 1.05e-05</td>\n",
       "</tr>\n",
       "<tr>\n",
       "  <th>Dimension</th>        <td>-3.001e-06</td> <td>  8.4e-06</td> <td>   -0.357</td> <td> 0.721</td> <td>-1.95e-05</td> <td> 1.35e-05</td>\n",
       "</tr>\n",
       "<tr>\n",
       "  <th>Number of Points</th> <td> 3.822e-10</td> <td> 3.18e-11</td> <td>   12.016</td> <td> 0.000</td> <td>  3.2e-10</td> <td> 4.45e-10</td>\n",
       "</tr>\n",
       "<tr>\n",
       "  <th>Distribution_Num</th> <td>-3.283e-05</td> <td> 1.39e-05</td> <td>   -2.362</td> <td> 0.019</td> <td>-6.02e-05</td> <td>-5.49e-06</td>\n",
       "</tr>\n",
       "</table>\n",
       "<table class=\"simpletable\">\n",
       "<tr>\n",
       "  <th>Omnibus:</th>       <td>180.395</td> <th>  Durbin-Watson:     </th> <td>   1.895</td>\n",
       "</tr>\n",
       "<tr>\n",
       "  <th>Prob(Omnibus):</th> <td> 0.000</td>  <th>  Jarque-Bera (JB):  </th> <td>2418.047</td>\n",
       "</tr>\n",
       "<tr>\n",
       "  <th>Skew:</th>          <td> 1.941</td>  <th>  Prob(JB):          </th> <td>    0.00</td>\n",
       "</tr>\n",
       "<tr>\n",
       "  <th>Kurtosis:</th>      <td>15.681</td>  <th>  Cond. No.          </th> <td>5.09e+05</td>\n",
       "</tr>\n",
       "</table><br/><br/>Warnings:<br/>[1] Standard Errors assume that the covariance matrix of the errors is correctly specified.<br/>[2] The condition number is large, 5.09e+05. This might indicate that there are<br/>strong multicollinearity or other numerical problems."
      ],
      "text/plain": [
       "<class 'statsmodels.iolib.summary.Summary'>\n",
       "\"\"\"\n",
       "                            OLS Regression Results                            \n",
       "==============================================================================\n",
       "Dep. Variable:                   Time   R-squared:                       0.326\n",
       "Model:                            OLS   Adj. R-squared:                  0.320\n",
       "Method:                 Least Squares   F-statistic:                     52.58\n",
       "Date:                Wed, 11 Jul 2018   Prob (F-statistic):           9.58e-28\n",
       "Time:                        20:43:34   Log-Likelihood:                 2496.3\n",
       "No. Observations:                 330   AIC:                            -4985.\n",
       "Df Residuals:                     326   BIC:                            -4969.\n",
       "Df Model:                           3                                         \n",
       "Covariance Type:            nonrobust                                         \n",
       "====================================================================================\n",
       "                       coef    std err          t      P>|t|      [0.025      0.975]\n",
       "------------------------------------------------------------------------------------\n",
       "K                 6.131e-06    2.2e-06      2.790      0.006    1.81e-06    1.05e-05\n",
       "Dimension        -3.001e-06    8.4e-06     -0.357      0.721   -1.95e-05    1.35e-05\n",
       "Number of Points  3.822e-10   3.18e-11     12.016      0.000     3.2e-10    4.45e-10\n",
       "Distribution_Num -3.283e-05   1.39e-05     -2.362      0.019   -6.02e-05   -5.49e-06\n",
       "==============================================================================\n",
       "Omnibus:                      180.395   Durbin-Watson:                   1.895\n",
       "Prob(Omnibus):                  0.000   Jarque-Bera (JB):             2418.047\n",
       "Skew:                           1.941   Prob(JB):                         0.00\n",
       "Kurtosis:                      15.681   Cond. No.                     5.09e+05\n",
       "==============================================================================\n",
       "\n",
       "Warnings:\n",
       "[1] Standard Errors assume that the covariance matrix of the errors is correctly specified.\n",
       "[2] The condition number is large, 5.09e+05. This might indicate that there are\n",
       "strong multicollinearity or other numerical problems.\n",
       "\"\"\""
      ]
     },
     "execution_count": 8,
     "metadata": {},
     "output_type": "execute_result"
    }
   ],
   "source": [
    "x = df_quad[['K', 'Dimension', 'Number of Points', 'Distribution_Num']]\n",
    "y = df_quad['Time']\n",
    "x = sm.add_constant(x)\n",
    "result = sm.OLS(y, x).fit()\n",
    "result.summary()"
   ]
  },
  {
   "cell_type": "markdown",
   "metadata": {},
   "source": [
    "\n",
    "From the table above, time spent is mainly affected by the Number of Points. Because the p-value is 0 for it."
   ]
  },
  {
   "cell_type": "markdown",
   "metadata": {},
   "source": [
    "### Unusual Aspects:\n",
    "The K analysis for bucket seems unusual, because the data structure calculate and traverse differently for different K values (K dimensions to 1d array), so the graph seems shaky."
   ]
  }
 ],
 "metadata": {
  "kernelspec": {
   "display_name": "Python 3",
   "language": "python",
   "name": "python3"
  },
  "language_info": {
   "codemirror_mode": {
    "name": "ipython",
    "version": 3
   },
   "file_extension": ".py",
   "mimetype": "text/x-python",
   "name": "python",
   "nbconvert_exporter": "python",
   "pygments_lexer": "ipython3",
   "version": "3.6.5"
  }
 },
 "nbformat": 4,
 "nbformat_minor": 2
}
